{
 "cells": [
  {
   "cell_type": "code",
   "execution_count": 1,
   "metadata": {
    "scrolled": true
   },
   "outputs": [
    {
     "data": {
      "application/javascript": [
       "require.undef(\"nbextensions/vpython_libraries/glow.min\");"
      ],
      "text/plain": [
       "<IPython.core.display.Javascript object>"
      ]
     },
     "metadata": {},
     "output_type": "display_data"
    },
    {
     "data": {
      "application/javascript": [
       "require.undef(\"nbextensions/vpython_libraries/glowcomm\");"
      ],
      "text/plain": [
       "<IPython.core.display.Javascript object>"
      ]
     },
     "metadata": {},
     "output_type": "display_data"
    },
    {
     "data": {
      "application/javascript": [
       "require.undef(\"nbextensions/vpython_libraries/jquery-ui.custom.min\");"
      ],
      "text/plain": [
       "<IPython.core.display.Javascript object>"
      ]
     },
     "metadata": {},
     "output_type": "display_data"
    },
    {
     "data": {
      "application/javascript": [
       "require([\"nbextensions/vpython_libraries/glow.min\"], function(){console.log(\"GLOW LOADED\");})"
      ],
      "text/plain": [
       "<IPython.core.display.Javascript object>"
      ]
     },
     "metadata": {},
     "output_type": "display_data"
    },
    {
     "data": {
      "application/javascript": [
       "require([\"nbextensions/vpython_libraries/glowcomm\"], function(){console.log(\"GLOWCOMM LOADED\");})"
      ],
      "text/plain": [
       "<IPython.core.display.Javascript object>"
      ]
     },
     "metadata": {},
     "output_type": "display_data"
    },
    {
     "data": {
      "application/javascript": [
       "require([\"nbextensions/vpython_libraries/jquery-ui.custom.min\"], function(){console.log(\"JQUERY LOADED\");})"
      ],
      "text/plain": [
       "<IPython.core.display.Javascript object>"
      ]
     },
     "metadata": {},
     "output_type": "display_data"
    },
    {
     "data": {
      "text/html": [
       "<div id=\"glowscript\" class=\"glowscript\"></div>"
      ],
      "text/plain": [
       "<IPython.core.display.HTML object>"
      ]
     },
     "metadata": {},
     "output_type": "display_data"
    },
    {
     "data": {
      "application/javascript": [
       "window.__context = { glowscript_container: $(\"#glowscript\").removeAttr(\"id\")}"
      ],
      "text/plain": [
       "<IPython.core.display.Javascript object>"
      ]
     },
     "metadata": {},
     "output_type": "display_data"
    },
    {
     "data": {
      "text/html": [
       "<div id=\"glowscript\" class=\"glowscript\"></div>"
      ],
      "text/plain": [
       "<IPython.core.display.HTML object>"
      ]
     },
     "metadata": {},
     "output_type": "display_data"
    },
    {
     "data": {
      "application/javascript": [
       "window.__context = { glowscript_container: $(\"#glowscript\").removeAttr(\"id\")}"
      ],
      "text/plain": [
       "<IPython.core.display.Javascript object>"
      ]
     },
     "metadata": {},
     "output_type": "display_data"
    }
   ],
   "source": [
    "import time\n",
    "import serial\n",
    "\n",
    "from vpython import *\n",
    "canvas()\n",
    "box()\n",
    "\n",
    "#mine...\n",
    "def make_image(a):\n",
    "    box(pos=vector(a,0,0), color=color.green)\n"
   ]
  },
  {
   "cell_type": "code",
   "execution_count": 2,
   "metadata": {},
   "outputs": [
    {
     "name": "stdout",
     "output_type": "stream",
     "text": [
      "start\n",
      "Connected\n",
      "ping\n",
      "0\n",
      "\n",
      "ping\n",
      "47\n",
      "\n",
      "ping\n",
      "49\n",
      "\n",
      "ping\n",
      "45\n",
      "\n",
      "ping\n",
      "49\n",
      "\n",
      "ping\n",
      "46\n",
      "\n",
      "ping\n",
      "44\n",
      "\n",
      "ping\n",
      "45\n",
      "\n",
      "ping\n",
      "50\n",
      "\n",
      "ping\n",
      "47\n",
      "\n",
      "ping\n",
      "45\n",
      "\n",
      "ping\n",
      "44\n",
      "\n",
      "ping\n",
      "48\n",
      "\n",
      "ping\n",
      "74\n",
      "\n",
      "ping\n",
      "44\n",
      "\n",
      "ping\n",
      "48\n",
      "\n",
      "ping\n",
      "58\n",
      "\n",
      "ping\n",
      "72\n",
      "\n",
      "ping\n",
      "46\n",
      "\n",
      "ping\n",
      "45\n",
      "\n",
      "ping\n",
      "43\n",
      "\n",
      "ping\n",
      "43\n",
      "\n",
      "ping\n",
      "56\n",
      "\n",
      "ping\n",
      "45\n",
      "\n",
      "ping\n",
      "56\n",
      "\n",
      "ping\n",
      "48\n",
      "\n",
      "ping\n",
      "48\n",
      "\n",
      "ping\n",
      "46\n",
      "\n",
      "ping\n",
      "45\n",
      "\n",
      "ping\n",
      "47\n",
      "\n",
      "ping\n",
      "51\n",
      "\n",
      "ping\n",
      "48\n",
      "\n",
      "ping\n",
      "94\n",
      "\n",
      "ping\n",
      "71\n",
      "\n",
      "ping\n",
      "49\n",
      "\n",
      "ping\n",
      "47\n",
      "\n",
      "ping\n",
      "50\n",
      "\n",
      "ping\n",
      "49\n",
      "\n",
      "ping\n",
      "44\n",
      "\n",
      "ping\n",
      "49\n",
      "\n",
      "ping\n",
      "47\n",
      "\n",
      "ping\n",
      "44\n",
      "\n",
      "ping\n",
      "45\n",
      "\n",
      "ping\n",
      "49\n",
      "\n",
      "ping\n",
      "63\n",
      "\n",
      "ping\n",
      "45\n",
      "\n",
      "ping\n",
      "56\n",
      "\n",
      "ping\n",
      "93\n",
      "\n",
      "ping\n",
      "54\n",
      "\n",
      "ping\n",
      "48\n",
      "\n",
      "Done\n"
     ]
    }
   ],
   "source": [
    "#This code isn't producing an image but is pinging so let's leave this for now. \n",
    "\n",
    "\n",
    "list = []\n",
    "#mine...ends\n",
    "    \n",
    "print(\"start\")\n",
    "\n",
    "\n",
    "port=\"/dev/tty.HC-06-DevB\"\n",
    "bluetooth=serial.Serial(port,9600)\n",
    "print(\"Connected\")\n",
    "bluetooth.flushInput()\n",
    "for i in range(50): #send 10 pings to the blutooth\n",
    "    print(\"ping\")\n",
    "    \n",
    "    bluetooth.write(b\"BOOP \"+str.encode(str(i))) #these need to be bytes not unicode, plus a number\n",
    "    input_data=bluetooth.readline()\n",
    "    print(input_data.decode()) #these bytes are coming in\n",
    "    \n",
    "    #mine...\n",
    "    s = int(input_data.decode())\n",
    "    make_image(s)\n",
    "    #end\n",
    "    \n",
    "    time.sleep(0.1)\n",
    "bluetooth.close()#otherwise the connection will remain open and clog up the devthingabob\n",
    "\n",
    "print(\"Done\")\n",
    "\n",
    "#old notes\n",
    "#need to go into venv due to PySerial module\n",
    "#https://pypi.python.org/pypi/getkey\n",
    "#source venv/bon/activate\n",
    "#vpython info on this might be different approach\n",
    "#http://vpython.org/contents/docs/keyboard.html\n",
    "#go back to vpython and get the glowscript or whatever version they want\n",
    "\n",
    "\n"
   ]
  },
  {
   "cell_type": "code",
   "execution_count": null,
   "metadata": {},
   "outputs": [],
   "source": []
  },
  {
   "cell_type": "code",
   "execution_count": null,
   "metadata": {},
   "outputs": [],
   "source": []
  },
  {
   "cell_type": "code",
   "execution_count": null,
   "metadata": {},
   "outputs": [],
   "source": []
  },
  {
   "cell_type": "code",
   "execution_count": null,
   "metadata": {},
   "outputs": [],
   "source": []
  },
  {
   "cell_type": "code",
   "execution_count": null,
   "metadata": {},
   "outputs": [],
   "source": []
  }
 ],
 "metadata": {
  "kernelspec": {
   "display_name": "VPython",
   "language": "python",
   "name": "vpython"
  },
  "language_info": {
   "codemirror_mode": {
    "name": "ipython",
    "version": 3
   },
   "file_extension": ".py",
   "mimetype": "text/x-python",
   "name": "python",
   "nbconvert_exporter": "python",
   "pygments_lexer": "ipython3",
   "version": "3.6.4"
  }
 },
 "nbformat": 4,
 "nbformat_minor": 2
}
