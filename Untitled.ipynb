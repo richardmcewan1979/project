{
 "cells": [
  {
   "cell_type": "code",
   "execution_count": 2,
   "metadata": {},
   "outputs": [
    {
     "name": "stdout",
     "output_type": "stream",
     "text": [
      "sleeping 5 sec from thread 0\n",
      "sleeping 5 sec from thread 1\n",
      "sleeping 5 sec from thread 2\n",
      "sleeping 5 sec from thread 3\n",
      "sleeping 5 sec from thread 4\n",
      "sleeping 5 sec from thread 5\n",
      "sleeping 5 sec from thread 6sleeping 5 sec from thread 7\n",
      "\n",
      "sleeping 5 sec from thread 8\n",
      "sleeping 5 sec from thread 9\n",
      "finished sleeping from thread 0\n",
      "finished sleeping from thread 2finished sleeping from thread 1\n",
      "\n",
      "finished sleeping from thread 3\n",
      "finished sleeping from thread 4finished sleeping from thread 5\n",
      "\n",
      "finished sleeping from thread 6finished sleeping from thread 8finished sleeping from thread 7finished sleeping from thread 9\n",
      "\n",
      "\n",
      "\n"
     ]
    }
   ],
   "source": [
    "import time\n",
    "from threading import Thread\n",
    "\n",
    "def myfunc(i):\n",
    "    print(\"sleeping 5 sec from thread %d\" % i)\n",
    "    time.sleep(5)\n",
    "    print(\"finished sleeping from thread %d\" % i)\n",
    "\n",
    "for i in range(10):\n",
    "    t = Thread(target=myfunc, args=(i,))\n",
    "    t.start()"
   ]
  },
  {
   "cell_type": "code",
   "execution_count": null,
   "metadata": {},
   "outputs": [],
   "source": []
  }
 ],
 "metadata": {
  "kernelspec": {
   "display_name": "VPython",
   "language": "python",
   "name": "vpython"
  },
  "language_info": {
   "codemirror_mode": {
    "name": "ipython",
    "version": 3
   },
   "file_extension": ".py",
   "mimetype": "text/x-python",
   "name": "python",
   "nbconvert_exporter": "python",
   "pygments_lexer": "ipython3",
   "version": "3.6.4"
  }
 },
 "nbformat": 4,
 "nbformat_minor": 2
}
