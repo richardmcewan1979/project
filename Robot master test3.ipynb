{
 "cells": [
  {
   "cell_type": "code",
   "execution_count": 1,
   "metadata": {},
   "outputs": [
    {
     "data": {
      "application/javascript": [
       "require.undef(\"nbextensions/vpython_libraries/glow.min\");"
      ],
      "text/plain": [
       "<IPython.core.display.Javascript object>"
      ]
     },
     "metadata": {},
     "output_type": "display_data"
    },
    {
     "data": {
      "application/javascript": [
       "require.undef(\"nbextensions/vpython_libraries/glowcomm\");"
      ],
      "text/plain": [
       "<IPython.core.display.Javascript object>"
      ]
     },
     "metadata": {},
     "output_type": "display_data"
    },
    {
     "data": {
      "application/javascript": [
       "require.undef(\"nbextensions/vpython_libraries/jquery-ui.custom.min\");"
      ],
      "text/plain": [
       "<IPython.core.display.Javascript object>"
      ]
     },
     "metadata": {},
     "output_type": "display_data"
    },
    {
     "data": {
      "application/javascript": [
       "require([\"nbextensions/vpython_libraries/glow.min\"], function(){console.log(\"GLOW LOADED\");})"
      ],
      "text/plain": [
       "<IPython.core.display.Javascript object>"
      ]
     },
     "metadata": {},
     "output_type": "display_data"
    },
    {
     "data": {
      "application/javascript": [
       "require([\"nbextensions/vpython_libraries/glowcomm\"], function(){console.log(\"GLOWCOMM LOADED\");})"
      ],
      "text/plain": [
       "<IPython.core.display.Javascript object>"
      ]
     },
     "metadata": {},
     "output_type": "display_data"
    },
    {
     "data": {
      "application/javascript": [
       "require([\"nbextensions/vpython_libraries/jquery-ui.custom.min\"], function(){console.log(\"JQUERY LOADED\");})"
      ],
      "text/plain": [
       "<IPython.core.display.Javascript object>"
      ]
     },
     "metadata": {},
     "output_type": "display_data"
    },
    {
     "data": {
      "text/html": [
       "<div id=\"glowscript\" class=\"glowscript\"></div>"
      ],
      "text/plain": [
       "<IPython.core.display.HTML object>"
      ]
     },
     "metadata": {},
     "output_type": "display_data"
    },
    {
     "data": {
      "application/javascript": [
       "window.__context = { glowscript_container: $(\"#glowscript\").removeAttr(\"id\")}"
      ],
      "text/plain": [
       "<IPython.core.display.Javascript object>"
      ]
     },
     "metadata": {},
     "output_type": "display_data"
    },
    {
     "data": {
      "text/html": [
       "<div id=\"glowscript\" class=\"glowscript\"></div>"
      ],
      "text/plain": [
       "<IPython.core.display.HTML object>"
      ]
     },
     "metadata": {},
     "output_type": "display_data"
    },
    {
     "data": {
      "application/javascript": [
       "window.__context = { glowscript_container: $(\"#glowscript\").removeAttr(\"id\")}"
      ],
      "text/plain": [
       "<IPython.core.display.Javascript object>"
      ]
     },
     "metadata": {},
     "output_type": "display_data"
    },
    {
     "name": "stdout",
     "output_type": "stream",
     "text": [
      "start\n",
      "Connected\n",
      "87\n",
      "\n",
      "94\n",
      "\n",
      "93\n",
      "\n",
      "74\n",
      "\n",
      "174\n",
      "\n",
      "81\n",
      "\n",
      "73\n",
      "\n",
      "94\n",
      "\n",
      "94\n",
      "\n",
      "235\n",
      "\n",
      "212\n",
      "\n",
      "73\n",
      "\n",
      "211\n",
      "\n",
      "133\n",
      "\n",
      "166\n",
      "\n",
      "118\n",
      "\n",
      "211\n",
      "\n",
      "135\n",
      "\n",
      "160\n",
      "\n",
      "212\n",
      "\n",
      "Done\n"
     ]
    }
   ],
   "source": [
    "#using conda ready bluetooth arduino script\n",
    "#This sorts of works. But lags and doesn't print balls till it's finished.\n",
    "#what i want to do here is reorder the script to get the event handling right.\n",
    "#there are lots of optimisation issues converting types, speed of in and out data...\n",
    "#buffer size, number of calls etc plus rendingering\n",
    "\n",
    "import serial\n",
    "import time\n",
    "from vpython import *\n",
    "\n",
    "\n",
    "canvas()\n",
    "box()\n",
    "\n",
    "port=\"/dev/tty.HC-06-DevB\"\n",
    "bluetooth=serial.Serial(port,9600)\n",
    "\n",
    "#mine...\n",
    "def make_image(signal):\n",
    "    s = str(signal)\n",
    "    s=int(s)\n",
    "    ball=sphere(pos=vector(s,0,0), color=color.green)\n",
    "    return ball\n",
    "    #end\n",
    "\n",
    "print(\"start\")\n",
    "\n",
    "print(\"Connected\")\n",
    "\n",
    "for i in range(20): #send 10 pings to the blutooth\n",
    "    bluetooth.flushInput()\n",
    "\n",
    "    #print(\"ping\")    \n",
    "    bluetooth.write(b\"BOOP \"+str.encode(str(i))) #these need to be bytes not unicode, plus a number\n",
    "    input_data=bluetooth.readline()\n",
    "    #print(input_data.decode()) #these bytes are coming in\n",
    "    \n",
    "    #mine...\n",
    "    signal = input_data.decode()\n",
    "    make_image(signal)\n",
    "    print(signal)\n",
    "    time.sleep(0.1)\n",
    "    \n",
    "    \n",
    "bluetooth.close()#otherwise the connection will remain open and clog up the devthingabob\n",
    "\n",
    "print(\"Done\")\n",
    "\n",
    "#old notes\n",
    "#need to go into venv due to PySerial module\n",
    "#https://pypi.python.org/pypi/getkey\n",
    "#source venv/bon/activate\n",
    "#vpython info on this might be different approach\n",
    "#http://vpython.org/contents/docs/keyboard.html\n",
    "#go back to vpython and get the glowscript or whatever version they want\n",
    "\n"
   ]
  },
  {
   "cell_type": "code",
   "execution_count": null,
   "metadata": {},
   "outputs": [],
   "source": []
  },
  {
   "cell_type": "code",
   "execution_count": null,
   "metadata": {},
   "outputs": [],
   "source": []
  },
  {
   "cell_type": "code",
   "execution_count": null,
   "metadata": {},
   "outputs": [],
   "source": []
  }
 ],
 "metadata": {
  "kernelspec": {
   "display_name": "VPython",
   "language": "python",
   "name": "vpython"
  },
  "language_info": {
   "codemirror_mode": {
    "name": "ipython",
    "version": 3
   },
   "file_extension": ".py",
   "mimetype": "text/x-python",
   "name": "python",
   "nbconvert_exporter": "python",
   "pygments_lexer": "ipython3",
   "version": "3.6.4"
  }
 },
 "nbformat": 4,
 "nbformat_minor": 2
}
